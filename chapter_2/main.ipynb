{
  "cells": [
    {
      "cell_type": "markdown",
      "metadata": {
        "colab_type": "text",
        "id": "view-in-github"
      },
      "source": [
        "<a href=\"https://colab.research.google.com/github/aloiswirth/AISpeechAssistant/blob/main/main.ipynb\" target=\"_parent\"><img src=\"https://colab.research.google.com/assets/colab-badge.svg\" alt=\"Open In Colab\"/></a>"
      ]
    },
    {
      "cell_type": "code",
      "execution_count": 1,
      "metadata": {
        "colab": {
          "base_uri": "https://localhost:8080/"
        },
        "id": "AP-AoDIGEiPe",
        "outputId": "24172288-1dca-4bbb-9249-12bd71c76644"
      },
      "outputs": [
        {
          "name": "stdout",
          "output_type": "stream",
          "text": [
            "Requirement already satisfied: loguru in c:\\users\\d022785\\appdata\\local\\programs\\python\\python312\\lib\\site-packages (0.7.2)\n",
            "Requirement already satisfied: colorama>=0.3.4 in c:\\users\\d022785\\appdata\\local\\programs\\python\\python312\\lib\\site-packages (from loguru) (0.4.6)\n",
            "Requirement already satisfied: win32-setctime>=1.0.0 in c:\\users\\d022785\\appdata\\local\\programs\\python\\python312\\lib\\site-packages (from loguru) (1.1.0)\n"
          ]
        }
      ],
      "source": [
        "!pip install loguru"
      ]
    },
    {
      "cell_type": "code",
      "execution_count": 2,
      "metadata": {
        "id": "D0sVc-vzD3xU"
      },
      "outputs": [],
      "source": [
        "from loguru import logger\n",
        "import sys"
      ]
    },
    {
      "cell_type": "code",
      "execution_count": 5,
      "metadata": {
        "colab": {
          "base_uri": "https://localhost:8080/"
        },
        "id": "K9qc1NfpEwyD",
        "outputId": "b3cd06f9-ae68-46a6-c02f-fd6ee4b966dd"
      },
      "outputs": [
        {
          "data": {
            "text/plain": [
              "1"
            ]
          },
          "execution_count": 5,
          "metadata": {},
          "output_type": "execute_result"
        }
      ],
      "source": [
        "logger.remove()\n",
        "logger.add(sys.stdout, level=\"INFO\")"
      ]
    },
    {
      "cell_type": "code",
      "execution_count": 7,
      "metadata": {
        "colab": {
          "base_uri": "https://localhost:8080/"
        },
        "id": "Knv6TXh4FGTd",
        "outputId": "e3facfac-bf20-495f-9999-f650d3dae97e"
      },
      "outputs": [
        {
          "name": "stdout",
          "output_type": "stream",
          "text": [
            "\u001b[32m2024-02-10 17:38:54.939\u001b[0m | \u001b[31m\u001b[1mERROR   \u001b[0m | \u001b[36m__main__\u001b[0m:\u001b[36m__init__\u001b[0m:\u001b[36m4\u001b[0m - \u001b[31m\u001b[1mVoiceAssistant wird initialisiert\u001b[0m\n",
            "\u001b[32m2024-02-10 17:38:54.941\u001b[0m | \u001b[1mINFO    \u001b[0m | \u001b[36m__main__\u001b[0m:\u001b[36m<cell line: 10>\u001b[0m:\u001b[36m13\u001b[0m - \u001b[1mVoiceAssistant gestartet\u001b[0m\n"
          ]
        }
      ],
      "source": [
        "class VoiceAssistant:\n",
        "\n",
        "  def __init__(self):\n",
        "    logger.error(\"VoiceAssistant wird initialisiert\")\n",
        "\n",
        "  def run(self):\n",
        "    logger.debug(\"Los geht es\")\n",
        "\n",
        "\n",
        "if __name__ == '__main__':\n",
        "  va = VoiceAssistant()\n",
        "  va.run()\n",
        "  logger.info(\"VoiceAssistant gestartet\")\n",
        "\n"
      ]
    }
  ],
  "metadata": {
    "colab": {
      "authorship_tag": "ABX9TyPhgkkmz525PXXjnoRjKMut",
      "include_colab_link": true,
      "provenance": []
    },
    "kernelspec": {
      "display_name": "Python 3",
      "name": "python3"
    },
    "language_info": {
      "codemirror_mode": {
        "name": "ipython",
        "version": 3
      },
      "file_extension": ".py",
      "mimetype": "text/x-python",
      "name": "python",
      "nbconvert_exporter": "python",
      "pygments_lexer": "ipython3",
      "version": "3.12.2"
    }
  },
  "nbformat": 4,
  "nbformat_minor": 0
}
