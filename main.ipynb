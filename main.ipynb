{
  "nbformat": 4,
  "nbformat_minor": 0,
  "metadata": {
    "colab": {
      "provenance": [],
      "authorship_tag": "ABX9TyPhgkkmz525PXXjnoRjKMut",
      "include_colab_link": true
    },
    "kernelspec": {
      "name": "python3",
      "display_name": "Python 3"
    },
    "language_info": {
      "name": "python"
    }
  },
  "cells": [
    {
      "cell_type": "markdown",
      "metadata": {
        "id": "view-in-github",
        "colab_type": "text"
      },
      "source": [
        "<a href=\"https://colab.research.google.com/github/aloiswirth/AISpeechAssistant/blob/main/main.ipynb\" target=\"_parent\"><img src=\"https://colab.research.google.com/assets/colab-badge.svg\" alt=\"Open In Colab\"/></a>"
      ]
    },
    {
      "cell_type": "code",
      "source": [
        "!pip install loguru"
      ],
      "metadata": {
        "colab": {
          "base_uri": "https://localhost:8080/"
        },
        "id": "AP-AoDIGEiPe",
        "outputId": "24172288-1dca-4bbb-9249-12bd71c76644"
      },
      "execution_count": 2,
      "outputs": [
        {
          "output_type": "stream",
          "name": "stdout",
          "text": [
            "Collecting loguru\n",
            "  Downloading loguru-0.7.2-py3-none-any.whl (62 kB)\n",
            "\u001b[2K     \u001b[90m━━━━━━━━━━━━━━━━━━━━━━━━━━━━━━━━━━━━━━━━\u001b[0m \u001b[32m62.5/62.5 kB\u001b[0m \u001b[31m1.1 MB/s\u001b[0m eta \u001b[36m0:00:00\u001b[0m\n",
            "\u001b[?25hInstalling collected packages: loguru\n",
            "Successfully installed loguru-0.7.2\n"
          ]
        }
      ]
    },
    {
      "cell_type": "code",
      "execution_count": 4,
      "metadata": {
        "id": "D0sVc-vzD3xU"
      },
      "outputs": [],
      "source": [
        "from loguru import logger\n",
        "import sys"
      ]
    },
    {
      "cell_type": "code",
      "source": [
        "logger.remove()\n",
        "logger.add(sys.stdout, level=\"INFO\")"
      ],
      "metadata": {
        "colab": {
          "base_uri": "https://localhost:8080/"
        },
        "id": "K9qc1NfpEwyD",
        "outputId": "b3cd06f9-ae68-46a6-c02f-fd6ee4b966dd"
      },
      "execution_count": 5,
      "outputs": [
        {
          "output_type": "execute_result",
          "data": {
            "text/plain": [
              "1"
            ]
          },
          "metadata": {},
          "execution_count": 5
        }
      ]
    },
    {
      "cell_type": "code",
      "source": [
        "class VoiceAssistant:\n",
        "\n",
        "  def __init__(self):\n",
        "    logger.error(\"VoiceAssistant wird initialisiert\")\n",
        "\n",
        "  def run(self):\n",
        "    logger.debug(\"Los geht es\")\n",
        "\n",
        "\n",
        "if __name__ == '__main__':\n",
        "  va = VoiceAssistant()\n",
        "  va.run()\n",
        "  logger.info(\"VoiceAssistant gestartet\")\n",
        "\n"
      ],
      "metadata": {
        "colab": {
          "base_uri": "https://localhost:8080/"
        },
        "id": "Knv6TXh4FGTd",
        "outputId": "e3facfac-bf20-495f-9999-f650d3dae97e"
      },
      "execution_count": 7,
      "outputs": [
        {
          "output_type": "stream",
          "name": "stdout",
          "text": [
            "\u001b[32m2024-02-10 17:38:54.939\u001b[0m | \u001b[31m\u001b[1mERROR   \u001b[0m | \u001b[36m__main__\u001b[0m:\u001b[36m__init__\u001b[0m:\u001b[36m4\u001b[0m - \u001b[31m\u001b[1mVoiceAssistant wird initialisiert\u001b[0m\n",
            "\u001b[32m2024-02-10 17:38:54.941\u001b[0m | \u001b[1mINFO    \u001b[0m | \u001b[36m__main__\u001b[0m:\u001b[36m<cell line: 10>\u001b[0m:\u001b[36m13\u001b[0m - \u001b[1mVoiceAssistant gestartet\u001b[0m\n"
          ]
        }
      ]
    }
  ]
}