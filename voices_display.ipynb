{
 "cells": [
  {
   "cell_type": "code",
   "execution_count": 13,
   "metadata": {},
   "outputs": [
    {
     "data": {
      "text/plain": [
       "<pyttsx3.engine.Engine at 0x7fc5595ef310>"
      ]
     },
     "execution_count": 13,
     "metadata": {},
     "output_type": "execute_result"
    }
   ],
   "source": [
    "import pyttsx3\n",
    "\n",
    "voice_nr = 0\n",
    "voices_male = 0\n",
    "voices_female = 0\n",
    "voices_other = 0\n",
    "voice_id = 0\n",
    "tts = pyttsx3.init()\n",
    "tts"
   ]
  },
  {
   "cell_type": "code",
   "execution_count": 2,
   "metadata": {},
   "outputs": [
    {
     "data": {
      "text/plain": [
       "list"
      ]
     },
     "execution_count": 2,
     "metadata": {},
     "output_type": "execute_result"
    }
   ],
   "source": [
    "voices = tts.getProperty(\"voices\")\n",
    "type(voices)"
   ]
  },
  {
   "cell_type": "code",
   "execution_count": 18,
   "metadata": {},
   "outputs": [
    {
     "name": "stdout",
     "output_type": "stream",
     "text": [
      "Anzahl der Stimmen:  225\n",
      "Anzahl der männlichen Stimmen:  183\n",
      "Anzahl der weiblichen Stimmen:  0\n",
      "Anzahl der anderen Stimmnen:  42\n"
     ]
    }
   ],
   "source": [
    "for item, voice in enumerate(voices):\n",
    "    # print(voice)\n",
    "    voice_nr += 1\n",
    "    if voice.gender == \"male\":\n",
    "        voices_male += 1\n",
    "    elif voice.gender == \"female\":\n",
    "        voices_female += 1\n",
    "    else:\n",
    "        voices_other += 1\n",
    "\n",
    "    if voice.name == \"german\":\n",
    "        voice_id = item\n",
    "    \n",
    "\n",
    "\n",
    "print(\"Anzahl der Stimmen: \", voice_nr)\n",
    "print(\"Anzahl der männlichen Stimmen: \", voices_male)\n",
    "print(\"Anzahl der weiblichen Stimmen: \", voices_female)\n",
    "print(\"Anzahl der anderen Stimmnen: \", voices_other)"
   ]
  },
  {
   "cell_type": "code",
   "execution_count": 19,
   "metadata": {},
   "outputs": [
    {
     "data": {
      "text/plain": [
       "9"
      ]
     },
     "execution_count": 19,
     "metadata": {},
     "output_type": "execute_result"
    }
   ],
   "source": [
    "voice_id"
   ]
  },
  {
   "cell_type": "code",
   "execution_count": 7,
   "metadata": {},
   "outputs": [
    {
     "name": "stdout",
     "output_type": "stream",
     "text": [
      "afrikaans\n"
     ]
    }
   ],
   "source": [
    "print(voices[0].name)"
   ]
  },
  {
   "cell_type": "code",
   "execution_count": null,
   "metadata": {},
   "outputs": [],
   "source": []
  }
 ],
 "metadata": {
  "kernelspec": {
   "display_name": ".venv",
   "language": "python",
   "name": "python3"
  },
  "language_info": {
   "codemirror_mode": {
    "name": "ipython",
    "version": 3
   },
   "file_extension": ".py",
   "mimetype": "text/x-python",
   "name": "python",
   "nbconvert_exporter": "python",
   "pygments_lexer": "ipython3",
   "version": "3.10.12"
  }
 },
 "nbformat": 4,
 "nbformat_minor": 2
}
